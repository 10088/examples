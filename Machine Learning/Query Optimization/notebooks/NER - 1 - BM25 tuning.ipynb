{
 "cells": [
  {
   "cell_type": "markdown",
   "metadata": {},
   "source": [
    "# Tuning BM25 parameters\n",
    "\n",
    "We tune BM25 parameters on a per-field basis including doc2query expansions and bigrammed text fields. These values are used later when optimizing more complex queries."
   ]
  },
  {
   "cell_type": "code",
   "execution_count": 1,
   "metadata": {},
   "outputs": [],
   "source": [
    "%load_ext autoreload\n",
    "%autoreload 2"
   ]
  },
  {
   "cell_type": "code",
   "execution_count": 2,
   "metadata": {},
   "outputs": [],
   "source": [
    "import importlib\n",
    "import os\n",
    "import sys\n",
    "\n",
    "from copy import deepcopy\n",
    "from elasticsearch import Elasticsearch\n",
    "from skopt.plots import plot_objective"
   ]
  },
  {
   "cell_type": "code",
   "execution_count": 3,
   "metadata": {},
   "outputs": [],
   "source": [
    "# project library\n",
    "sys.path.insert(0, os.path.abspath('..'))\n",
    "\n",
    "import qopt\n",
    "importlib.reload(qopt)\n",
    "\n",
    "from qopt.notebooks import evaluate_mrr100_dev_templated, optimize_bm25_mrr100_templated, set_bm25_params\n",
    "from qopt.optimize import Config, set_bm25_parameters"
   ]
  },
  {
   "cell_type": "code",
   "execution_count": 4,
   "metadata": {},
   "outputs": [],
   "source": [
    "# use a local Elasticsearch or Cloud instance (https://cloud.elastic.co/)\n",
    "# es = Elasticsearch('http://localhost:9200')\n",
    "es = Elasticsearch('http://34.89.199.174:9200')\n",
    "\n",
    "# set the parallelization parameter `max_concurrent_searches` for the Rank Evaluation API calls\n",
    "max_concurrent_searches = 30\n",
    "\n",
    "index = 'msmarco-document.ner'\n",
    "template_id = 'query'\n",
    "\n",
    "# no query params\n",
    "query_params = {}\n",
    "\n",
    "# field names\n",
    "field_names = [\n",
    "    #'url',\n",
    "    #'title', 'title.bigrams',\n",
    "    #'body', 'body.bigrams',\n",
    "    'entities'\n",
    "]\n",
    "similarity_names = [f\"bm25-{x.replace('.', '-')}\" for x in field_names]\n",
    "similarity_name_by_field = { field: similarity for field, similarity in zip(field_names, similarity_names) }\n",
    "\n",
    "# default Elasticsearch BM25 params\n",
    "default_bm25_params = {'k1': 1.2, 'b': 0.75}\n",
    "\n",
    "# base template for tuning\n",
    "base_templates = [{\n",
    "    \"id\": template_id,\n",
    "    \"template\": {\n",
    "        \"lang\": \"mustache\",\n",
    "        \"source\": { \"query\": {} }\n",
    "    }\n",
    "}]\n",
    "\n",
    "def reset_all():\n",
    "    for similarity in similarity_names:\n",
    "        set_bm25_parameters(es, index, name=similarity, **default_bm25_params)\n",
    "\n",
    "def for_all_fields(message, fn, existing_results=None):\n",
    "    _results = {}\n",
    "    for field, similarity in zip(field_names, similarity_names):\n",
    "        print(f\"{message}: {field}\")\n",
    "        if not existing_results:\n",
    "            params = default_bm25_params\n",
    "        else:\n",
    "            params = existing_results[field][1]\n",
    "        set_bm25_parameters(es, index, name=similarity, **params)\n",
    "\n",
    "        _templates = deepcopy(base_templates)\n",
    "        _templates[0]['template']['source']['query']['match'] = { field: { \"query\": \"{{query_string}}\" } }\n",
    "        _results[field] = fn(_templates, similarity)\n",
    "    return _results"
   ]
  },
  {
   "cell_type": "markdown",
   "metadata": {},
   "source": [
    "## Baseline evaluation"
   ]
  },
  {
   "cell_type": "code",
   "execution_count": 5,
   "metadata": {},
   "outputs": [
    {
     "name": "stdout",
     "output_type": "stream",
     "text": [
      "Dev set evaluation: entities\n",
      "Evaluation with: MRR@100\n",
      "Score: 0.0615\n",
      "CPU times: user 1.8 s, sys: 448 ms, total: 2.24 s\n",
      "Wall time: 1min 18s\n"
     ]
    }
   ],
   "source": [
    "%%time\n",
    "\n",
    "_ = for_all_fields(\n",
    "    \"Dev set evaluation\",\n",
    "    fn=lambda templates, similarity: evaluate_mrr100_dev_templated(es, max_concurrent_searches, index, templates, template_id, query_params),\n",
    ")"
   ]
  },
  {
   "cell_type": "markdown",
   "metadata": {},
   "source": [
    "## Optimization"
   ]
  },
  {
   "cell_type": "code",
   "execution_count": 6,
   "metadata": {},
   "outputs": [
    {
     "name": "stdout",
     "output_type": "stream",
     "text": [
      "Optimization: entities\n",
      "Optimizing parameters\n",
      " - metric: MRR@100\n",
      " - queries: data/msmarco-document-sampled-queries.1000.tsv\n",
      " - queries: data/msmarco/document/msmarco-doctrain-qrels.tsv\n",
      " > iteration 2/40, took 0:00:15 (remains: 0:09:41)\n",
      "   | 0.0552 (best: 0.0552) - {'k1': 0.9, 'b': 0.4}\n",
      " > iteration 3/40, took 0:00:07 (remains: 0:04:46)\n",
      "   | 0.0414 (best: 0.0552) - {'k1': 4.939376757231386, 'b': 0.657477262139702}\n",
      " > iteration 4/40, took 0:00:07 (remains: 0:04:17)\n",
      "   | 0.0532 (best: 0.0552) - {'k1': 1.0753553900866244, 'b': 0.8073816593835792}\n",
      " > iteration 5/40, took 0:00:07 (remains: 0:04:17)\n",
      "   | 0.0435 (best: 0.0552) - {'k1': 3.953787589543185, 'b': 0.6798838451291728}\n",
      " > iteration 6/40, took 0:00:06 (remains: 0:03:51)\n",
      "   | 0.0512 (best: 0.0552) - {'k1': 0.627393005362117, 'b': 0.9993671066126317}\n",
      " > iteration 7/40, took 0:00:07 (remains: 0:04:11)\n",
      "   | 0.0540 (best: 0.0552) - {'k1': 1.938410277106103, 'b': 0.4914221885201567}\n",
      " > iteration 8/40, took 0:00:07 (remains: 0:04:08)\n",
      "   | 0.0481 (best: 0.0552) - {'k1': 3.028070345810581, 'b': 0.6006235854889113}\n",
      " > iteration 9/40, took 0:00:07 (remains: 0:03:38)\n",
      "   | 0.0450 (best: 0.0552) - {'k1': 3.660620457911506, 'b': 0.7254047985482003}\n",
      " > iteration 10/40, took 0:00:07 (remains: 0:03:31)\n",
      "   | 0.0508 (best: 0.0552) - {'k1': 2.4029152018832898, 'b': 0.5282171730779028}\n",
      " > iteration 11/40, took 0:00:06 (remains: 0:03:21)\n",
      "   | 0.0478 (best: 0.0552) - {'k1': 2.998392684339668, 'b': 0.723369978734751}\n",
      " > iteration 12/40, took 0:00:07 (remains: 0:03:33)\n",
      "   | 0.0434 (best: 0.0552) - {'k1': 3.910179268474108, 'b': 0.8387446300928953}\n",
      " > iteration 13/40, took 0:00:07 (remains: 0:03:17)\n",
      "   | 0.0434 (best: 0.0552) - {'k1': 2.6824247974964726, 'b': 0.9171610517238837}\n",
      " > iteration 14/40, took 0:00:07 (remains: 0:03:13)\n",
      "   | 0.0452 (best: 0.0552) - {'k1': 3.405695643840416, 'b': 0.7158141598617492}\n",
      " > iteration 15/40, took 0:00:07 (remains: 0:03:06)\n",
      "   | 0.0487 (best: 0.0552) - {'k1': 2.9992413050860467, 'b': 0.4301033954739725}\n",
      " > iteration 16/40, took 0:00:06 (remains: 0:02:40)\n",
      "   | 0.0447 (best: 0.0552) - {'k1': 3.461142379211684, 'b': 0.562987719813487}\n",
      " > iteration 17/40, took 0:00:06 (remains: 0:02:38)\n",
      "   | 0.0504 (best: 0.0552) - {'k1': 1.234467157499778, 'b': 0.9648759028211482}\n",
      " > iteration 18/40, took 0:00:06 (remains: 0:02:23)\n",
      "   | 0.0468 (best: 0.0552) - {'k1': 2.458975011924248, 'b': 0.8965222414318059}\n",
      " > iteration 19/40, took 0:00:06 (remains: 0:02:22)\n",
      "   | 0.0517 (best: 0.0552) - {'k1': 2.374599031570277, 'b': 0.5558637907351436}\n",
      " > iteration 20/40, took 0:00:07 (remains: 0:02:32)\n",
      "   | 0.0553 (best: 0.0553) - {'k1': 2.0402536101335493, 'b': 0.38384472232502176}\n",
      " > iteration 21/40, took 0:00:07 (remains: 0:02:23)\n",
      "   | 0.0425 (best: 0.0553) - {'k1': 4.452301747077045, 'b': 0.4384547527165251}\n",
      " > iteration 22/40, took 0:00:07 (remains: 0:02:18)\n",
      "   | 0.0526 (best: 0.0553) - {'k1': 0.5736029590146731, 'b': 0.8116062231706376}\n",
      " > iteration 23/40, took 0:00:08 (remains: 0:02:31)\n",
      "   | 0.0415 (best: 0.0553) - {'k1': 0.0040047319940877965, 'b': 0.3007687528535508}\n",
      " > iteration 24/40, took 0:00:07 (remains: 0:01:57)\n",
      "   | 0.0592 (best: 0.0592) - {'k1': 1.4856968960928536, 'b': 0.3}\n",
      " > iteration 25/40, took 0:00:07 (remains: 0:01:47)\n",
      "   | 0.0588 (best: 0.0592) - {'k1': 1.4362053865088846, 'b': 0.3}\n",
      " > iteration 26/40, took 0:00:08 (remains: 0:01:58)\n",
      "   | 0.0446 (best: 0.0592) - {'k1': 0.01652708991745522, 'b': 0.9987149580814885}\n",
      " > iteration 27/40, took 0:00:07 (remains: 0:01:38)\n",
      "   | 0.0283 (best: 0.0592) - {'k1': 4.996220719806263, 'b': 0.9975740825723318}\n",
      " > iteration 28/40, took 0:00:07 (remains: 0:01:33)\n",
      "   | 0.0412 (best: 0.0592) - {'k1': 4.990937686863025, 'b': 0.3017416731442441}\n",
      " > iteration 29/40, took 0:00:07 (remains: 0:01:21)\n",
      "   | 0.0590 (best: 0.0592) - {'k1': 1.6026173020185324, 'b': 0.3}\n",
      " > iteration 30/40, took 0:00:09 (remains: 0:01:34)\n",
      "   | 0.0402 (best: 0.0592) - {'k1': 0.0050480702246663576, 'b': 0.5974044445445035}\n",
      " > iteration 31/40, took 0:00:08 (remains: 0:01:14)\n",
      "   | 0.0467 (best: 0.0592) - {'k1': 3.7103941898514248, 'b': 0.30076858496964465}\n",
      " > iteration 32/40, took 0:00:08 (remains: 0:01:07)\n",
      "   | 0.0532 (best: 0.0592) - {'k1': 2.5374193226677715, 'b': 0.300606671034303}\n",
      " > iteration 33/40, took 0:00:07 (remains: 0:00:54)\n",
      "   | 0.0576 (best: 0.0592) - {'k1': 0.8768764320267143, 'b': 0.300875669661297}\n",
      " > iteration 34/40, took 0:00:08 (remains: 0:00:51)\n",
      "   | 0.0582 (best: 0.0592) - {'k1': 1.2731526589324407, 'b': 0.3}\n",
      " > iteration 35/40, took 0:00:08 (remains: 0:00:40)\n",
      "   | 0.0345 (best: 0.0592) - {'k1': 3.4681495753433023, 'b': 0.9992466302529417}\n",
      " > iteration 36/40, took 0:00:08 (remains: 0:00:32)\n",
      "   | 0.0585 (best: 0.0592) - {'k1': 1.3689814305183319, 'b': 0.3}\n",
      " > iteration 37/40, took 0:00:08 (remains: 0:00:24)\n",
      "   | 0.0578 (best: 0.0592) - {'k1': 1.7105290823727493, 'b': 0.3}\n",
      " > iteration 38/40, took 0:00:08 (remains: 0:00:16)\n",
      "   | 0.0581 (best: 0.0592) - {'k1': 1.3024806526041686, 'b': 0.3}\n",
      " > iteration 39/40, took 0:00:08 (remains: 0:00:08)\n",
      "   | 0.0586 (best: 0.0592) - {'k1': 1.3533344734324915, 'b': 0.3}\n",
      " > iteration 40/40, took 0:00:08 (remains: 0:00:00)\n",
      "   | 0.0589 (best: 0.0592) - {'k1': 1.4138151148187805, 'b': 0.3}\n",
      "Best score: 0.0592\n",
      "Best params: {'k1': 1.4856968960928536, 'b': 0.3}\n",
      "Final params: {'k1': 1.4856968960928536, 'b': 0.3}\n",
      "\n",
      "CPU times: user 35.8 s, sys: 6.7 s, total: 42.5 s\n",
      "Wall time: 5min 8s\n"
     ]
    }
   ],
   "source": [
    "%%time\n",
    "\n",
    "results = for_all_fields(\n",
    "    \"Optimization\",\n",
    "    fn=lambda templates, similarity: optimize_bm25_mrr100_templated(es, max_concurrent_searches, index, templates, template_id, query_params,\n",
    "        config_space=Config.parse({\n",
    "            'method': 'bayesian',\n",
    "            'num_iterations': 40,\n",
    "            'num_initial_points': 20,\n",
    "            'space': {\n",
    "                'k1': { 'low': 0.0, 'high': 5.0 },\n",
    "                'b': { 'low': 0.3, 'high': 1.0 },\n",
    "            }\n",
    "        }),\n",
    "        name=similarity),\n",
    ")"
   ]
  },
  {
   "cell_type": "code",
   "execution_count": 7,
   "metadata": {},
   "outputs": [
    {
     "data": {
      "image/png": "[encoded data removed]",
      "text/plain": [
       "<Figure size 288x288 with 4 Axes>"
      ]
     },
     "metadata": {
      "needs_background": "light"
     },
     "output_type": "display_data"
    }
   ],
   "source": [
    "for field, (_, _, _, metadata) in results.items():\n",
    "    _ = plot_objective(metadata, sample_source='result')"
   ]
  },
  {
   "cell_type": "code",
   "execution_count": 8,
   "metadata": {},
   "outputs": [
    {
     "name": "stdout",
     "output_type": "stream",
     "text": [
      "Dev set evaluation: entities\n",
      "Evaluation with: MRR@100\n",
      "Score: 0.0627\n",
      "CPU times: user 1.58 s, sys: 457 ms, total: 2.04 s\n",
      "Wall time: 44.7 s\n"
     ]
    }
   ],
   "source": [
    "%%time\n",
    "\n",
    "_ = for_all_fields(\n",
    "    \"Dev set evaluation\",\n",
    "    fn=lambda templates, similarity: evaluate_mrr100_dev_templated(es, max_concurrent_searches, index, templates, template_id, query_params),\n",
    "    existing_results=results,\n",
    ")"
   ]
  },
  {
   "cell_type": "markdown",
   "metadata": {},
   "source": [
    "## Best parameters"
   ]
  },
  {
   "cell_type": "code",
   "execution_count": 9,
   "metadata": {},
   "outputs": [],
   "source": [
    "best_params = [(x, best) for x, (_, best, _, _) in results.items()]"
   ]
  },
  {
   "cell_type": "code",
   "execution_count": 10,
   "metadata": {},
   "outputs": [
    {
     "data": {
      "text/plain": [
       "[('entities', {'k1': 1.4856968960928536, 'b': 0.3})]"
      ]
     },
     "execution_count": 10,
     "metadata": {},
     "output_type": "execute_result"
    }
   ],
   "source": [
    "best_params"
   ]
  },
  {
   "cell_type": "code",
   "execution_count": 11,
   "metadata": {},
   "outputs": [
    {
     "name": "stdout",
     "output_type": "stream",
     "text": [
      "Setting BM25 params fields:\n",
      " - entities: {'k1': 1.4856968960928536, 'b': 0.3}\n"
     ]
    }
   ],
   "source": [
    "set_bm25_params(es, index, best_params)"
   ]
  },
  {
   "cell_type": "markdown",
   "metadata": {},
   "source": [
    "## Conclusion\n",
    "\n",
    "If you'd like to reset all parameters to their defaults, you can do so with the following code. However if you want to stick with the optimal values as shown above, you should skip running this."
   ]
  },
  {
   "cell_type": "code",
   "execution_count": 12,
   "metadata": {},
   "outputs": [],
   "source": [
    "reset_all()"
   ]
  },
  {
   "cell_type": "code",
   "execution_count": 13,
   "metadata": {},
   "outputs": [
    {
     "data": {
      "text/plain": [
       "[('url', {'k1': 0.33066956222950633, 'b': 0.9589101032169087}),\n",
       " ('title', {'k1': 0.34885436112727763, 'b': 1.0}),\n",
       " ('title.bigrams', {'k1': 1.2, 'b': 0.75}),\n",
       " ('body', {'k1': 3.0128735487205525, 'b': 0.8200709176657588}),\n",
       " ('body.bigrams', {'k1': 1.9100199633100623, 'b': 0.7336619962002098}),\n",
       " ('expansions', {'k1': 4.870954366799399, 'b': 0.9249613913608172}),\n",
       " ('expansions.bigrams', {'k1': 1.2, 'b': 0.75})]"
      ]
     },
     "execution_count": 13,
     "metadata": {},
     "output_type": "execute_result"
    }
   ],
   "source": [
    "# best params from all previous runs with current fields and analyzers\n",
    "\n",
    "[\n",
    "    ('url', {'k1': 0.33066956222950633, 'b': 0.9589101032169087}), # 0.2201\n",
    "    ('title', {'k1': 0.34885436112727763, 'b': 1.0}), # 0.2354\n",
    "    ('title.bigrams', {'k1': 1.2, 'b': 0.75}), # 0.1295\n",
    "    ('body', {'k1': 3.0128735487205525, 'b': 0.8200709176657588}), # 0.2645\n",
    "    ('body.bigrams', {'k1': 1.9100199633100623, 'b': 0.7336619962002098}), # 0.2045\n",
    "    ('expansions', {'k1': 4.870954366799399, 'b': 0.9249613913608172}), # 0.3220\n",
    "    ('expansions.bigrams', {'k1': 1.2, 'b': 0.75}) # 0.2837\n",
    "]"
   ]
  },
  {
   "cell_type": "code",
   "execution_count": null,
   "metadata": {},
   "outputs": [],
   "source": []
  }
 ],
 "metadata": {
  "kernelspec": {
   "display_name": "Python 3",
   "language": "python",
   "name": "python3"
  },
  "language_info": {
   "codemirror_mode": {
    "name": "ipython",
    "version": 3
   },
   "file_extension": ".py",
   "mimetype": "text/x-python",
   "name": "python",
   "nbconvert_exporter": "python",
   "pygments_lexer": "ipython3",
   "version": "3.7.7"
  }
 },
 "nbformat": 4,
 "nbformat_minor": 4
}
