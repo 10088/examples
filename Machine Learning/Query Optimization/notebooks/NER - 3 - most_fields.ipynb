{
 "cells": [
  {
   "cell_type": "markdown",
   "metadata": {},
   "source": [
    "# Tuning a `multi_match` `most_fields` query"
   ]
  },
  {
   "cell_type": "code",
   "execution_count": 1,
   "metadata": {},
   "outputs": [],
   "source": [
    "%load_ext autoreload\n",
    "%autoreload 2"
   ]
  },
  {
   "cell_type": "code",
   "execution_count": 2,
   "metadata": {},
   "outputs": [],
   "source": [
    "import importlib\n",
    "import os\n",
    "import sys\n",
    "\n",
    "from copy import deepcopy\n",
    "from elasticsearch import Elasticsearch\n",
    "from skopt.plots import plot_objective"
   ]
  },
  {
   "cell_type": "code",
   "execution_count": 3,
   "metadata": {},
   "outputs": [],
   "source": [
    "# project library\n",
    "sys.path.insert(0, os.path.abspath('..'))\n",
    "\n",
    "import qopt\n",
    "importlib.reload(qopt)\n",
    "\n",
    "from qopt.notebooks import evaluate_mrr100_dev_templated, optimize_query_mrr100_templated, set_bm25_params\n",
    "from qopt.optimize import Config"
   ]
  },
  {
   "cell_type": "code",
   "execution_count": 4,
   "metadata": {},
   "outputs": [
    {
     "name": "stdout",
     "output_type": "stream",
     "text": [
      "Setting BM25 params fields:\n",
      " - url: {'k1': 0.33066956222950633, 'b': 0.9589101032169087}\n",
      " - title: {'k1': 0.34885436112727763, 'b': 1.0}\n",
      " - title.bigrams: {'k1': 1.2, 'b': 0.75}\n",
      " - body: {'k1': 3.0128735487205525, 'b': 0.8200709176657588}\n",
      " - body.bigrams: {'k1': 1.9100199633100623, 'b': 0.7336619962002098}\n",
      " - entities: {'k1': 1.4856968960928536, 'b': 0.3}\n"
     ]
    }
   ],
   "source": [
    "# use a local Elasticsearch or Cloud instance (https://cloud.elastic.co/)\n",
    "# es = Elasticsearch('http://localhost:9200')\n",
    "es = Elasticsearch('http://34.89.199.174:9200')\n",
    "\n",
    "# set the parallelization parameter `max_concurrent_searches` for the Rank Evaluation API calls\n",
    "max_concurrent_searches = 30\n",
    "\n",
    "index = 'msmarco-document.ner'\n",
    "template_id = 'query'\n",
    "query_type = 'most_fields'\n",
    "\n",
    "# set best BM25 params\n",
    "set_bm25_params(es, index, [\n",
    "    ('url', {'k1': 0.33066956222950633, 'b': 0.9589101032169087}), # 0.2201\n",
    "    ('title', {'k1': 0.34885436112727763, 'b': 1.0}), # 0.2354\n",
    "    ('title.bigrams', {'k1': 1.2, 'b': 0.75}), # 0.1295\n",
    "    ('body', {'k1': 3.0128735487205525, 'b': 0.8200709176657588}), # 0.2645\n",
    "    ('body.bigrams', {'k1': 1.9100199633100623, 'b': 0.7336619962002098}), # 0.2045\n",
    "    ('entities', {'k1': 1.4856968960928536, 'b': 0.3}),\n",
    "])\n",
    "\n",
    "# base template for tuning\n",
    "base_templates = [{\n",
    "    \"id\": template_id,\n",
    "    \"template\": {\n",
    "        \"lang\": \"mustache\",\n",
    "        \"source\": { \"query\": {} }\n",
    "    }\n",
    "}]"
   ]
  },
  {
   "cell_type": "markdown",
   "metadata": {},
   "source": [
    "## Experiments"
   ]
  },
  {
   "cell_type": "markdown",
   "metadata": {},
   "source": [
    "### Base fields"
   ]
  },
  {
   "cell_type": "code",
   "execution_count": null,
   "metadata": {},
   "outputs": [],
   "source": [
    "_templates = deepcopy(base_templates)\n",
    "_templates[0]['template']['source']['query']['multi_match'] = {\n",
    "    \"type\": query_type,\n",
    "    \"query\": \"{{query_string}}\",\n",
    "    \"fields\": [\n",
    "        \"url^{{url|boost}}\",\n",
    "        \"title^{{title|boost}}\",\n",
    "        \"body^{{body|boost}}\",\n",
    "    ]\n",
    "}"
   ]
  },
  {
   "cell_type": "code",
   "execution_count": null,
   "metadata": {},
   "outputs": [],
   "source": [
    "%%time\n",
    "\n",
    "_ = evaluate_mrr100_dev_templated(es, max_concurrent_searches, index, _templates, template_id, params={\n",
    "    'url|boost': 1.0,\n",
    "    'title|boost': 1.0,\n",
    "    'body|boost': 1.0,\n",
    "})"
   ]
  },
  {
   "cell_type": "code",
   "execution_count": null,
   "metadata": {},
   "outputs": [],
   "source": [
    "%%time\n",
    "\n",
    "_, _, final_params, metadata = optimize_query_mrr100_templated(es, max_concurrent_searches, index, _templates, template_id,\n",
    "    config_space=Config.parse({\n",
    "        'method': 'bayesian',\n",
    "        'num_iterations': 50,\n",
    "        'num_initial_points': 20,\n",
    "        'space': {\n",
    "            'url|boost': { 'low': 0.0, 'high': 10.0 },\n",
    "            'title|boost': { 'low': 0.0, 'high': 10.0 },\n",
    "            'body|boost': { 'low': 0.0, 'high': 10.0 },\n",
    "        }\n",
    "    }))"
   ]
  },
  {
   "cell_type": "code",
   "execution_count": null,
   "metadata": {},
   "outputs": [],
   "source": [
    "_ = plot_objective(metadata, sample_source='result')"
   ]
  },
  {
   "cell_type": "code",
   "execution_count": null,
   "metadata": {},
   "outputs": [],
   "source": [
    "%%time\n",
    "\n",
    "_ = evaluate_mrr100_dev_templated(es, max_concurrent_searches, index, _templates, template_id, params=final_params)"
   ]
  },
  {
   "cell_type": "code",
   "execution_count": null,
   "metadata": {},
   "outputs": [],
   "source": [
    "final_params"
   ]
  },
  {
   "cell_type": "markdown",
   "metadata": {},
   "source": [
    "### Base fields + bigrams"
   ]
  },
  {
   "cell_type": "code",
   "execution_count": null,
   "metadata": {},
   "outputs": [],
   "source": [
    "_templates = deepcopy(base_templates)\n",
    "_templates[0]['template']['source']['query']['multi_match'] = {\n",
    "    \"type\": \"most_fields\",\n",
    "    \"query\": \"{{query_string}}\",\n",
    "    \"fields\": [\n",
    "        \"url^{{url|boost}}\",\n",
    "        \"title^{{title|boost}}\",\n",
    "        \"title.bigrams^{{title_bigrams|boost}}\",\n",
    "        \"body^{{body|boost}}\",\n",
    "        \"body.bigrams^{{body_bigrams|boost}}\",\n",
    "    ]\n",
    "}"
   ]
  },
  {
   "cell_type": "code",
   "execution_count": null,
   "metadata": {},
   "outputs": [],
   "source": [
    "%%time\n",
    "\n",
    "_ = evaluate_mrr100_dev_templated(es, max_concurrent_searches, index, _templates, template_id, params={\n",
    "    'url|boost': 1.0,\n",
    "    'title|boost': 1.0,\n",
    "    'title_bigrams|boost': 1.0,\n",
    "    'body|boost': 1.0,\n",
    "    'body_bigrams|boost': 1.0,\n",
    "})"
   ]
  },
  {
   "cell_type": "code",
   "execution_count": null,
   "metadata": {},
   "outputs": [],
   "source": [
    "%%time\n",
    "\n",
    "_, _, final_params, metadata = optimize_query_mrr100_templated(es, max_concurrent_searches, index, _templates, template_id,\n",
    "    config_space=Config.parse({\n",
    "        'method': 'bayesian',\n",
    "        'num_iterations': 50,\n",
    "        'num_initial_points': 20,\n",
    "        'space': {\n",
    "            'url|boost': { 'low': 0.0, 'high': 10.0 },\n",
    "            'title|boost': { 'low': 0.0, 'high': 10.0 },\n",
    "            'title_bigrams|boost': { 'low': 0.0, 'high': 10.0 },\n",
    "            'body|boost': { 'low': 0.0, 'high': 10.0 },\n",
    "            'body_bigrams|boost': { 'low': 0.0, 'high': 10.0 },\n",
    "        }\n",
    "    }))"
   ]
  },
  {
   "cell_type": "code",
   "execution_count": null,
   "metadata": {},
   "outputs": [],
   "source": [
    "_ = plot_objective(metadata, sample_source='result')"
   ]
  },
  {
   "cell_type": "code",
   "execution_count": null,
   "metadata": {},
   "outputs": [],
   "source": [
    "%%time\n",
    "\n",
    "_ = evaluate_mrr100_dev_templated(es, max_concurrent_searches, index, _templates, template_id, params=final_params)"
   ]
  },
  {
   "cell_type": "code",
   "execution_count": null,
   "metadata": {},
   "outputs": [],
   "source": [
    "final_params"
   ]
  },
  {
   "cell_type": "markdown",
   "metadata": {},
   "source": [
    "### Base fields + entities"
   ]
  },
  {
   "cell_type": "code",
   "execution_count": 32,
   "metadata": {},
   "outputs": [],
   "source": [
    "from transformers import pipeline, AutoTokenizer, AutoModelForTokenClassification\n",
    "from qopt.trec import load_queries_as_tuple_list, load_qrels\n",
    "from qopt.notebooks import *"
   ]
  },
  {
   "cell_type": "code",
   "execution_count": 48,
   "metadata": {},
   "outputs": [],
   "source": [
    "def has_entity(text):\n",
    "    return ner_uncased(text)\n",
    "\n",
    "\n",
    "def evaluate_mrr100_dev_notner(es, max_concurrent_searches, index, templates, template_id, params):\n",
    "    k = 100\n",
    "    queries = load_queries_as_tuple_list(os.path.join(os.path.abspath('..'), 'data', 'msmarco', 'document', 'msmarco-docdev-queries.tsv'))\n",
    "    qrels = load_qrels(os.path.join(os.path.abspath('..'), 'data', 'msmarco', 'document', 'msmarco-docdev-qrels.tsv'))\n",
    "\n",
    "    queries = [x for x in queries if not has_entity(x[1])]\n",
    "    \n",
    "    body = {\n",
    "        'metric': mrr(k),\n",
    "        'templates': templates,\n",
    "        'requests': build_requests(index, template_id, queries, qrels, params),\n",
    "        'max_concurrent_searches': max_concurrent_searches,\n",
    "    }\n",
    "\n",
    "    print(f\"Evaluation with: MRR@{k}\")\n",
    "\n",
    "    results = es.rank_eval(body=body, index=index, request_timeout=1200,\n",
    "                           allow_no_indices=False, ignore_unavailable=False,\n",
    "                           search_type='dfs_query_then_fetch')\n",
    "    print(f\"Score: {results['metric_score']:.04f}\")\n",
    "    return results\n",
    "\n",
    "\n",
    "def evaluate_mrr100_dev_ner(es, max_concurrent_searches, index, templates, template_id, params):\n",
    "    k = 100\n",
    "    queries = load_queries_as_tuple_list(os.path.join(os.path.abspath('..'), 'data', 'msmarco', 'document', 'msmarco-docdev-queries.tsv'))\n",
    "    qrels = load_qrels(os.path.join(os.path.abspath('..'), 'data', 'msmarco', 'document', 'msmarco-docdev-qrels.tsv'))\n",
    "\n",
    "    queries = [x for x in queries if has_entity(x[1])]\n",
    "    \n",
    "    body = {\n",
    "        'metric': mrr(k),\n",
    "        'templates': templates,\n",
    "        'requests': build_requests(index, template_id, queries, qrels, params),\n",
    "        'max_concurrent_searches': max_concurrent_searches,\n",
    "    }\n",
    "\n",
    "    print(f\"Evaluation with: MRR@{k}\")\n",
    "\n",
    "    results = es.rank_eval(body=body, index=index, request_timeout=1200,\n",
    "                           allow_no_indices=False, ignore_unavailable=False,\n",
    "                           search_type='dfs_query_then_fetch')\n",
    "    print(f\"Score: {results['metric_score']:.04f}\")\n",
    "    return results\n",
    "\n",
    "\n",
    "def optimize_query_mrr100_ner(es, max_concurrent_searches, index, templates, template_id, config_space, verbose=True):\n",
    "    k = 100\n",
    "    queries_fname = os.path.join(os.path.abspath('..'), 'data', 'msmarco-document-sampled-queries.1000.tsv')\n",
    "    qrels_fname = os.path.join(os.path.abspath('..'), 'data', 'msmarco', 'document', 'msmarco-doctrain-qrels.tsv')\n",
    "\n",
    "    queries = load_queries_as_tuple_list(os.path.join(ROOT_DIR, queries_fname))\n",
    "    qrels = load_qrels(os.path.join(ROOT_DIR, qrels_fname))\n",
    "\n",
    "    queries = [x for x in queries if has_entity(x[1])]\n",
    "    \n",
    "    print(\"Optimizing parameters\")\n",
    "    print(f\" - metric: MRR@{k}\")\n",
    "    print(f\" - queries: {queries_fname}\")\n",
    "    print(f\" - queries: {qrels_fname}\")\n",
    "\n",
    "    if verbose:\n",
    "        logger = verbose_logger\n",
    "    else:\n",
    "        logger = None\n",
    "\n",
    "    best_score, best_params, final_params, metadata = optimize_query(\n",
    "        es, max_concurrent_searches, index, config_space, mrr(100), templates,\n",
    "        template_id, queries, qrels, logger)\n",
    "\n",
    "    print(f\"Best score: {best_score:.04f}\")\n",
    "    print(f\"Best params: {best_params}\")\n",
    "    print(f\"Final params: {final_params}\")\n",
    "    print()\n",
    "\n",
    "    return best_score, best_params, final_params, metadata\n",
    "\n",
    "\n",
    "def optimize_query_mrr100_ner(es, max_concurrent_searches, index, templates, template_id, config_space, verbose=True):\n",
    "    k = 100\n",
    "    queries_fname = os.path.join('data', 'msmarco-document-sampled-queries.1000.tsv')\n",
    "    qrels_fname = os.path.join('data', 'msmarco', 'document', 'msmarco-doctrain-qrels.tsv')\n",
    "\n",
    "    queries = load_queries_as_tuple_list(os.path.join(ROOT_DIR, queries_fname))\n",
    "    qrels = load_qrels(os.path.join(ROOT_DIR, qrels_fname))\n",
    "\n",
    "    queries = [x for x in queries if has_entity(x[1])]\n",
    "    \n",
    "    print(\"Optimizing parameters\")\n",
    "    print(f\" - metric: MRR@{k}\")\n",
    "    print(f\" - queries: {queries_fname}\")\n",
    "    print(f\" - queries: {qrels_fname}\")\n",
    "\n",
    "    if verbose:\n",
    "        logger = verbose_logger\n",
    "    else:\n",
    "        logger = None\n",
    "\n",
    "    best_score, best_params, final_params, metadata = optimize_query(\n",
    "        es, max_concurrent_searches, index, config_space, mrr(100), templates,\n",
    "        template_id, queries, qrels, logger)\n",
    "\n",
    "    print(f\"Best score: {best_score:.04f}\")\n",
    "    print(f\"Best params: {best_params}\")\n",
    "    print(f\"Final params: {final_params}\")\n",
    "    print()\n",
    "\n",
    "    return best_score, best_params, final_params, metadata"
   ]
  },
  {
   "cell_type": "code",
   "execution_count": 23,
   "metadata": {},
   "outputs": [],
   "source": [
    "model_name = 'dslim/bert-base-NER-uncased'\n",
    "tokenizer = AutoTokenizer.from_pretrained(model_name, model_max_length=512, padding=True)\n",
    "model = AutoModelForTokenClassification.from_pretrained(model_name)\n",
    "ner_uncased = pipeline('ner', tokenizer=tokenizer, model=model, grouped_entities=True, ignore_subwords=True)"
   ]
  },
  {
   "cell_type": "code",
   "execution_count": 46,
   "metadata": {},
   "outputs": [
    {
     "name": "stdout",
     "output_type": "stream",
     "text": [
      "Evaluation with: MRR@100\n",
      "Score: 0.3444\n",
      "CPU times: user 5min 21s, sys: 7.22 s, total: 5min 28s\n",
      "Wall time: 5min 58s\n"
     ]
    }
   ],
   "source": [
    "%%time\n",
    "\n",
    "_templates = deepcopy(base_templates)\n",
    "_templates[0]['template']['source']['query']['multi_match'] = {\n",
    "    \"type\": query_type,\n",
    "    \"query\": \"{{query_string}}\",\n",
    "    \"fields\": [\n",
    "        \"url^{{url|boost}}\",\n",
    "        \"title^{{title|boost}}\",\n",
    "        \"body^{{body|boost}}\",\n",
    "    ]\n",
    "}\n",
    "\n",
    "_ = evaluate_mrr100_dev_ner(es, max_concurrent_searches, index, _templates, template_id, params={\n",
    "    'url|boost': 1.0,\n",
    "    'title|boost': 1.0,\n",
    "    'body|boost': 1.0,\n",
    "})"
   ]
  },
  {
   "cell_type": "code",
   "execution_count": 34,
   "metadata": {},
   "outputs": [
    {
     "name": "stdout",
     "output_type": "stream",
     "text": [
      "Evaluation with: MRR@100\n",
      "Score: 0.3298\n",
      "CPU times: user 4min 43s, sys: 3.4 s, total: 4min 46s\n",
      "Wall time: 5min 19s\n"
     ]
    }
   ],
   "source": [
    "%%time\n",
    "\n",
    "_templates = deepcopy(base_templates)\n",
    "_templates[0]['template']['source']['query']['multi_match'] = {\n",
    "    \"type\": query_type,\n",
    "    \"query\": \"{{query_string}}\",\n",
    "    \"fields\": [\n",
    "        \"url^{{url|boost}}\",\n",
    "        \"title^{{title|boost}}\",\n",
    "        \"body^{{body|boost}}\",\n",
    "        \"entities^{{entities|boost}}\",\n",
    "    ]\n",
    "}\n",
    "\n",
    "_ = evaluate_mrr100_dev_ner(es, max_concurrent_searches, index, _templates, template_id, params={\n",
    "    'url|boost': 1.0,\n",
    "    'title|boost': 1.0,\n",
    "    'body|boost': 1.0,\n",
    "    'entities|boost': 1.0,\n",
    "})"
   ]
  },
  {
   "cell_type": "code",
   "execution_count": 49,
   "metadata": {},
   "outputs": [
    {
     "name": "stdout",
     "output_type": "stream",
     "text": [
      "Optimizing parameters\n",
      " - metric: MRR@100\n",
      " - queries: data/msmarco-document-sampled-queries.1000.tsv\n",
      " - queries: data/msmarco/document/msmarco-doctrain-qrels.tsv\n",
      " > iteration 1/50, took 0:00:05 (remains: 0:04:20)\n",
      "   | 0.2925 (best: 0.2925) - {'url|boost': 5.249954004877275, 'title|boost': 9.414795093105976, 'body|boost': 2.003522207282968, 'entities|boost': 5.928302927367481}\n",
      " > iteration 2/50, took 0:00:04 (remains: 0:03:38)\n",
      "   | 0.2731 (best: 0.2925) - {'url|boost': 7.922751475494744, 'title|boost': 6.815930259244683, 'body|boost': 0.7058015358207638, 'entities|boost': 4.743987066827505}\n",
      " > iteration 3/50, took 0:00:10 (remains: 0:08:17)\n",
      "   | 0.3147 (best: 0.3147) - {'url|boost': 7.996086516117432, 'title|boost': 1.0636695670936682, 'body|boost': 8.570813259888011, 'entities|boost': 9.545902528254441}\n",
      " > iteration 4/50, took 0:00:09 (remains: 0:07:38)\n",
      "   | 0.3154 (best: 0.3154) - {'url|boost': 1.9651912123959918, 'title|boost': 1.7549118854240189, 'body|boost': 3.6721636370581185, 'entities|boost': 2.3263330464960723}\n",
      " > iteration 5/50, took 0:00:09 (remains: 0:07:10)\n",
      "   | 0.3156 (best: 0.3156) - {'url|boost': 8.367604767663334, 'title|boost': 2.1752064938628175, 'body|boost': 6.1172802158748985, 'entities|boost': 4.062210032299567}\n",
      " > iteration 6/50, took 0:00:08 (remains: 0:06:35)\n",
      "   | 0.3097 (best: 0.3156) - {'url|boost': 7.588248860084239, 'title|boost': 8.1979705519434, 'body|boost': 6.205283473489961, 'entities|boost': 5.24354919588112}\n",
      " > iteration 7/50, took 0:00:11 (remains: 0:08:01)\n",
      "   | 0.3137 (best: 0.3156) - {'url|boost': 2.3668899096871248, 'title|boost': 9.473872642049297, 'body|boost': 7.6364378757180775, 'entities|boost': 1.859644569118151}\n",
      " > iteration 8/50, took 0:00:08 (remains: 0:06:02)\n",
      "   | 0.3088 (best: 0.3156) - {'url|boost': 9.427308431410934, 'title|boost': 7.72428945941071, 'body|boost': 6.343283261228053, 'entities|boost': 3.3231524836890443}\n",
      " > iteration 9/50, took 0:00:09 (remains: 0:06:28)\n",
      "   | 0.3170 (best: 0.3170) - {'url|boost': 7.575609653522575, 'title|boost': 7.296967246288688, 'body|boost': 8.376949533272292, 'entities|boost': 0.30041949914229266}\n",
      " > iteration 10/50, took 0:00:04 (remains: 0:03:00)\n",
      "   | 0.2784 (best: 0.3170) - {'url|boost': 6.5572663929635775, 'title|boost': 4.371223231454266, 'body|boost': 0.7017475517309314, 'entities|boost': 4.603429340201789}\n",
      " > iteration 11/50, took 0:00:09 (remains: 0:06:25)\n",
      "   | 0.3153 (best: 0.3170) - {'url|boost': 4.129375132184298, 'title|boost': 4.491183272107219, 'body|boost': 8.121037041870718, 'entities|boost': 0.8048880162612461}\n",
      " > iteration 12/50, took 0:00:09 (remains: 0:06:06)\n",
      "   | 0.3183 (best: 0.3183) - {'url|boost': 3.6493772036986942, 'title|boost': 3.121316263170462, 'body|boost': 5.037249674933372, 'entities|boost': 8.41031785447519}\n",
      " > iteration 13/50, took 0:00:09 (remains: 0:05:58)\n",
      "   | 0.3182 (best: 0.3183) - {'url|boost': 3.461284306383689, 'title|boost': 3.021613248200094, 'body|boost': 6.9180471677406095, 'entities|boost': 4.213833277594825}\n",
      " > iteration 14/50, took 0:00:09 (remains: 0:05:56)\n",
      "   | 0.3159 (best: 0.3183) - {'url|boost': 6.183087882230497, 'title|boost': 1.4445553193774754, 'body|boost': 8.711307236383782, 'entities|boost': 0.9550148384182457}\n",
      " > iteration 15/50, took 0:00:09 (remains: 0:05:41)\n",
      "   | 0.3159 (best: 0.3183) - {'url|boost': 1.759431706527428, 'title|boost': 7.863270792259196, 'body|boost': 7.800079808833701, 'entities|boost': 9.066118559426107}\n",
      " > iteration 16/50, took 0:00:09 (remains: 0:05:28)\n",
      "   | 0.3145 (best: 0.3183) - {'url|boost': 2.2909759554777613, 'title|boost': 6.8591088882111695, 'body|boost': 5.158698099209272, 'entities|boost': 9.558507246818692}\n",
      " > iteration 17/50, took 0:00:09 (remains: 0:05:18)\n",
      "   | 0.3156 (best: 0.3183) - {'url|boost': 7.884624660638922, 'title|boost': 1.8189321262999738, 'body|boost': 9.846915914482814, 'entities|boost': 8.923803424614206}\n",
      " > iteration 18/50, took 0:00:09 (remains: 0:05:16)\n",
      "   | 0.3172 (best: 0.3183) - {'url|boost': 4.606597707333919, 'title|boost': 6.506923943946937, 'body|boost': 7.269588829080972, 'entities|boost': 8.44364694143486}\n",
      " > iteration 19/50, took 0:00:07 (remains: 0:03:56)\n",
      "   | 0.3032 (best: 0.3183) - {'url|boost': 1.2762418504116104, 'title|boost': 5.672567956049014, 'body|boost': 1.8659324288958148, 'entities|boost': 0.6175900488483467}\n",
      " > iteration 20/50, took 0:00:05 (remains: 0:02:45)\n",
      "   | 0.2975 (best: 0.3183) - {'url|boost': 5.268032294769551, 'title|boost': 5.190662346006684, 'body|boost': 1.669240028521011, 'entities|boost': 9.388613255274148}\n",
      " > iteration 21/50, took 0:00:05 (remains: 0:02:27)\n",
      "   | 0.2945 (best: 0.3183) - {'url|boost': 0.0, 'title|boost': 0.0, 'body|boost': 5.191200349902526, 'entities|boost': 10.0}\n",
      " > iteration 22/50, took 0:00:10 (remains: 0:04:44)\n",
      "   | 0.3188 (best: 0.3188) - {'url|boost': 10.0, 'title|boost': 0.0, 'body|boost': 10.0, 'entities|boost': 3.0357543728747087}\n",
      " > iteration 23/50, took 0:00:10 (remains: 0:04:39)\n",
      "   | 0.3169 (best: 0.3188) - {'url|boost': 3.25828957026075, 'title|boost': 10.0, 'body|boost': 10.0, 'entities|boost': 10.0}\n",
      " > iteration 24/50, took 0:00:10 (remains: 0:04:23)\n",
      "   | 0.3150 (best: 0.3188) - {'url|boost': 10.0, 'title|boost': 10.0, 'body|boost': 10.0, 'entities|boost': 0.0}\n",
      " > iteration 25/50, took 0:00:05 (remains: 0:02:09)\n",
      "   | 0.2995 (best: 0.3188) - {'url|boost': 0.41772588526389687, 'title|boost': 0.0, 'body|boost': 10.0, 'entities|boost': 0.0}\n",
      " > iteration 26/50, took 0:00:09 (remains: 0:03:59)\n",
      "   | 0.3175 (best: 0.3188) - {'url|boost': 4.5708741232653525, 'title|boost': 0.0, 'body|boost': 5.188041333149557, 'entities|boost': 0.0}\n",
      " > iteration 27/50, took 0:00:10 (remains: 0:03:53)\n",
      "   | 0.3178 (best: 0.3188) - {'url|boost': 5.84953885409366, 'title|boost': 10.0, 'body|boost': 10.0, 'entities|boost': 9.628930584852606}\n",
      " > iteration 28/50, took 0:00:09 (remains: 0:03:38)\n",
      "   | 0.3228 (best: 0.3228) - {'url|boost': 9.837386818581086, 'title|boost': 0.006762543546212641, 'body|boost': 6.756772942971699, 'entities|boost': 4.418264550907239}\n",
      " > iteration 29/50, took 0:00:09 (remains: 0:03:22)\n",
      "   | 0.3215 (best: 0.3228) - {'url|boost': 0.2806109457841533, 'title|boost': 9.730856904098026, 'body|boost': 9.917810649004581, 'entities|boost': 2.608410716743414}\n",
      " > iteration 30/50, took 0:00:09 (remains: 0:03:03)\n",
      "   | 0.3133 (best: 0.3228) - {'url|boost': 10.0, 'title|boost': 0.0, 'body|boost': 3.8017237089248104, 'entities|boost': 0.009339324861345914}\n",
      " > iteration 31/50, took 0:00:04 (remains: 0:01:21)\n",
      "   | 0.2649 (best: 0.3228) - {'url|boost': 2.838036223483607, 'title|boost': 0.41467475645997737, 'body|boost': 0.043664280526133366, 'entities|boost': 5.132798043643901}\n",
      " > iteration 32/50, took 0:00:09 (remains: 0:02:57)\n",
      "   | 0.3172 (best: 0.3228) - {'url|boost': 10.0, 'title|boost': 6.435339876291344, 'body|boost': 10.0, 'entities|boost': 10.0}\n",
      " > iteration 33/50, took 0:00:09 (remains: 0:02:39)\n",
      "   | 0.3093 (best: 0.3228) - {'url|boost': 0.08538572104113575, 'title|boost': 9.75806938925533, 'body|boost': 4.34408157501422, 'entities|boost': 3.4196457687404487}\n",
      " > iteration 34/50, took 0:00:10 (remains: 0:02:42)\n",
      "   | 0.3202 (best: 0.3228) - {'url|boost': 5.851254454831021, 'title|boost': 0.04616848324016876, 'body|boost': 3.692281383883395, 'entities|boost': 9.541944198799627}\n",
      " > iteration 35/50, took 0:00:03 (remains: 0:00:59)\n",
      "   | 0.2808 (best: 0.3228) - {'url|boost': 0.011836483295858404, 'title|boost': 9.931983443238398, 'body|boost': 0.49165119691003245, 'entities|boost': 8.511423724648221}\n",
      " > iteration 36/50, took 0:00:09 (remains: 0:02:09)\n",
      "   | 0.3111 (best: 0.3228) - {'url|boost': 5.263907569160215, 'title|boost': 5.018450968344124, 'body|boost': 3.9131507420885026, 'entities|boost': 0.5949392337630467}\n",
      " > iteration 37/50, took 0:00:10 (remains: 0:02:11)\n",
      "   | 0.3177 (best: 0.3228) - {'url|boost': 0.04920423461448276, 'title|boost': 9.946734657659546, 'body|boost': 8.143154224152138, 'entities|boost': 8.341813950968346}\n",
      " > iteration 38/50, took 0:00:10 (remains: 0:02:08)\n",
      "   | 0.3169 (best: 0.3228) - {'url|boost': 9.958031270262154, 'title|boost': 4.005031342362071, 'body|boost': 8.261643734475346, 'entities|boost': 0.25914117696806854}\n",
      " > iteration 39/50, took 0:00:11 (remains: 0:02:03)\n",
      "   | 0.3188 (best: 0.3228) - {'url|boost': 10.0, 'title|boost': 0.0, 'body|boost': 6.05386815956619, 'entities|boost': 10.0}\n",
      " > iteration 40/50, took 0:00:09 (remains: 0:01:34)\n",
      "   | 0.3106 (best: 0.3228) - {'url|boost': 9.75382910592841, 'title|boost': 9.922041958152018, 'body|boost': 8.05900953031853, 'entities|boost': 9.92617398688363}\n",
      " > iteration 41/50, took 0:00:04 (remains: 0:00:38)\n",
      "   | 0.2898 (best: 0.3228) - {'url|boost': 9.981047594161641, 'title|boost': 0.16121335784191618, 'body|boost': 1.1085957038338625, 'entities|boost': 8.562168891515219}\n",
      " > iteration 42/50, took 0:00:10 (remains: 0:01:22)\n",
      "   | 0.3174 (best: 0.3228) - {'url|boost': 5.741686063187773, 'title|boost': 0.07319201813851485, 'body|boost': 7.10194039230414, 'entities|boost': 3.7869505113569533}\n",
      " > iteration 43/50, took 0:00:10 (remains: 0:01:11)\n",
      "   | 0.3202 (best: 0.3228) - {'url|boost': 0.0, 'title|boost': 10.0, 'body|boost': 10.0, 'entities|boost': 10.0}\n",
      " > iteration 44/50, took 0:00:09 (remains: 0:00:57)\n",
      "   | 0.3225 (best: 0.3228) - {'url|boost': 10.0, 'title|boost': 0.0, 'body|boost': 7.477169595649559, 'entities|boost': 0.0}\n",
      " > iteration 45/50, took 0:00:09 (remains: 0:00:49)\n",
      "   | 0.3224 (best: 0.3228) - {'url|boost': 10.0, 'title|boost': 0.0, 'body|boost': 7.32599866993175, 'entities|boost': 0.0}\n",
      " > iteration 46/50, took 0:00:09 (remains: 0:00:37)\n",
      "   | 0.3170 (best: 0.3228) - {'url|boost': 0.20243290583564558, 'title|boost': 9.649552157393869, 'body|boost': 6.481279426144763, 'entities|boost': 4.396907768926525}\n",
      " > iteration 47/50, took 0:00:09 (remains: 0:00:29)\n",
      "   | 0.3181 (best: 0.3228) - {'url|boost': 4.239073189041994, 'title|boost': 4.644186861654055, 'body|boost': 9.979240686772272, 'entities|boost': 4.5515743195828495}\n",
      " > iteration 48/50, took 0:00:09 (remains: 0:00:18)\n",
      "   | 0.3320 (best: 0.3320) - {'url|boost': 0.07453828714906631, 'title|boost': 6.843787715561682, 'body|boost': 9.999984252304632, 'entities|boost': 9.261892538900495}\n",
      " > iteration 49/50, took 0:00:08 (remains: 0:00:08)\n",
      "   | 0.3334 (best: 0.3334) - {'url|boost': 0.0, 'title|boost': 6.016589531997579, 'body|boost': 10.0, 'entities|boost': 0.0}\n",
      " > iteration 50/50, took 0:00:08 (remains: 0:00:00)\n",
      "   | 0.3335 (best: 0.3335) - {'url|boost': 0.0, 'title|boost': 5.988332464008273, 'body|boost': 10.0, 'entities|boost': 0.0}\n",
      "Best score: 0.3335\n",
      "Best params: {'url|boost': 0.0, 'title|boost': 5.988332464008273, 'body|boost': 10.0, 'entities|boost': 0.0}\n",
      "Final params: {'url|boost': 0.0, 'title|boost': 5.988332464008273, 'body|boost': 10.0, 'entities|boost': 0.0}\n",
      "\n",
      "CPU times: user 1min 55s, sys: 10.7 s, total: 2min 6s\n",
      "Wall time: 8min 28s\n"
     ]
    }
   ],
   "source": [
    "%%time\n",
    "\n",
    "_, _, final_params, metadata = optimize_query_mrr100_ner(es, max_concurrent_searches, index, _templates, template_id,\n",
    "    config_space=Config.parse({\n",
    "        'method': 'bayesian',\n",
    "        'num_iterations': 50,\n",
    "        'num_initial_points': 20,\n",
    "        'space': {\n",
    "            'url|boost': { 'low': 0.0, 'high': 10.0 },\n",
    "            'title|boost': { 'low': 0.0, 'high': 10.0 },\n",
    "            'body|boost': { 'low': 0.0, 'high': 10.0 },\n",
    "            'entities|boost': { 'low': 0.0, 'high': 10.0 },\n",
    "        }\n",
    "    }))"
   ]
  },
  {
   "cell_type": "code",
   "execution_count": 50,
   "metadata": {},
   "outputs": [
    {
     "data": {
      "image/png": "[encoded data removed]",
      "text/plain": [
       "<Figure size 576x576 with 16 Axes>"
      ]
     },
     "metadata": {
      "needs_background": "light"
     },
     "output_type": "display_data"
    }
   ],
   "source": [
    "_ = plot_objective(metadata, sample_source='result')"
   ]
  },
  {
   "cell_type": "code",
   "execution_count": 51,
   "metadata": {},
   "outputs": [
    {
     "name": "stdout",
     "output_type": "stream",
     "text": [
      "Evaluation with: MRR@100\n",
      "Score: 0.3512\n",
      "CPU times: user 4min 59s, sys: 4.68 s, total: 5min 4s\n",
      "Wall time: 5min 44s\n"
     ]
    }
   ],
   "source": [
    "%%time\n",
    "\n",
    "# optimized over NER queries only\n",
    "_ = evaluate_mrr100_dev_ner(es, max_concurrent_searches, index, _templates, template_id, params=final_params)"
   ]
  },
  {
   "cell_type": "code",
   "execution_count": 52,
   "metadata": {},
   "outputs": [
    {
     "data": {
      "text/plain": [
       "{'url|boost': 0.0,\n",
       " 'title|boost': 5.988332464008273,\n",
       " 'body|boost': 10.0,\n",
       " 'entities|boost': 0.0}"
      ]
     },
     "execution_count": 52,
     "metadata": {},
     "output_type": "execute_result"
    }
   ],
   "source": [
    "final_params"
   ]
  },
  {
   "cell_type": "code",
   "execution_count": 37,
   "metadata": {},
   "outputs": [
    {
     "name": "stdout",
     "output_type": "stream",
     "text": [
      "Evaluation with: MRR@100\n",
      "Score: 0.3525\n",
      "CPU times: user 4min 42s, sys: 3.31 s, total: 4min 46s\n",
      "Wall time: 5min 22s\n"
     ]
    }
   ],
   "source": [
    "%%time\n",
    "\n",
    "# optimizing over all queries\n",
    "_ = evaluate_mrr100_dev_ner(es, max_concurrent_searches, index, _templates, template_id, params=final_params)"
   ]
  },
  {
   "cell_type": "code",
   "execution_count": 38,
   "metadata": {},
   "outputs": [
    {
     "data": {
      "text/plain": [
       "{'url|boost': 0.3019915098610027,\n",
       " 'title|boost': 2.523830532007498,\n",
       " 'body|boost': 7.298817737818202,\n",
       " 'entities|boost': 0.06286157827366302}"
      ]
     },
     "execution_count": 38,
     "metadata": {},
     "output_type": "execute_result"
    }
   ],
   "source": [
    "final_params"
   ]
  },
  {
   "cell_type": "code",
   "execution_count": 47,
   "metadata": {},
   "outputs": [
    {
     "name": "stdout",
     "output_type": "stream",
     "text": [
      "Evaluation with: MRR@100\n",
      "Score: 0.3555\n",
      "CPU times: user 5min 28s, sys: 7.86 s, total: 5min 36s\n",
      "Wall time: 6min 25s\n"
     ]
    }
   ],
   "source": [
    "%%time\n",
    "\n",
    "_templates = deepcopy(base_templates)\n",
    "_templates[0]['template']['source']['query']['multi_match'] = {\n",
    "    \"type\": query_type,\n",
    "    \"query\": \"{{query_string}}\",\n",
    "    \"fields\": [\n",
    "        \"url^{{url|boost}}\",\n",
    "        \"title^{{title|boost}}\",\n",
    "        \"body^{{body|boost}}\",\n",
    "    ]\n",
    "}\n",
    "_ = evaluate_mrr100_dev_ner(es, max_concurrent_searches, index, _templates, template_id, params={\n",
    "    'url|boost': 1.0282402606853827,\n",
    "    'title|boost': 5.620614617420669,\n",
    "    'body|boost': 9.993215193304582,\n",
    "})"
   ]
  },
  {
   "cell_type": "code",
   "execution_count": 44,
   "metadata": {},
   "outputs": [
    {
     "name": "stdout",
     "output_type": "stream",
     "text": [
      "Evaluation with: MRR@100\n",
      "Score: 0.2623\n",
      "CPU times: user 5min 23s, sys: 7.76 s, total: 5min 31s\n",
      "Wall time: 6min 45s\n"
     ]
    }
   ],
   "source": [
    "%%time\n",
    "\n",
    "_templates = deepcopy(base_templates)\n",
    "_templates[0]['template']['source']['query']['multi_match'] = {\n",
    "    \"type\": query_type,\n",
    "    \"query\": \"{{query_string}}\",\n",
    "    \"fields\": [\n",
    "        \"url^{{url|boost}}\",\n",
    "        \"title^{{title|boost}}\",\n",
    "        \"body^{{body|boost}}\",\n",
    "    ]\n",
    "}\n",
    "_ = evaluate_mrr100_dev_notner(es, max_concurrent_searches, index, _templates, template_id, params={\n",
    "    'url|boost': 1.0282402606853827,\n",
    "    'title|boost': 5.620614617420669,\n",
    "    'body|boost': 9.993215193304582,\n",
    "})"
   ]
  },
  {
   "cell_type": "markdown",
   "metadata": {},
   "source": [
    "### Base fields + entities + bigrams"
   ]
  },
  {
   "cell_type": "code",
   "execution_count": null,
   "metadata": {},
   "outputs": [],
   "source": [
    "_templates = deepcopy(base_templates)\n",
    "_templates[0]['template']['source']['query']['multi_match'] = {\n",
    "    \"type\": query_type,\n",
    "    \"query\": \"{{query_string}}\",\n",
    "    \"fields\": [\n",
    "        \"url^{{url|boost}}\",\n",
    "        \"title^{{title|boost}}\",\n",
    "        \"title.bigrams^{{title_bigrams|boost}}\",\n",
    "        \"body^{{body|boost}}\",\n",
    "        \"body.bigrams^{{body_bigrams|boost}}\",\n",
    "        \"entities^{{entities|boost}}\"\n",
    "    ]\n",
    "}"
   ]
  },
  {
   "cell_type": "code",
   "execution_count": null,
   "metadata": {},
   "outputs": [],
   "source": [
    "%%time\n",
    "\n",
    "_ = evaluate_mrr100_dev_templated(es, max_concurrent_searches, index, _templates, template_id, params={\n",
    "    'url|boost': 1.0,\n",
    "    'title|boost': 1.0,\n",
    "    'title_bigrams|boost': 1.0,\n",
    "    'body|boost': 1.0,\n",
    "    'body_bigrams|boost': 1.0,\n",
    "    'entities|boost': 1.0\n",
    "})"
   ]
  },
  {
   "cell_type": "code",
   "execution_count": null,
   "metadata": {},
   "outputs": [],
   "source": [
    "%%time\n",
    "\n",
    "_, _, final_params, metadata = optimize_query_mrr100_templated(es, max_concurrent_searches, index, _templates, template_id,\n",
    "    config_space=Config.parse({\n",
    "        'method': 'bayesian',\n",
    "        'num_iterations': 100,\n",
    "        'num_initial_points': 20,\n",
    "        'space': {\n",
    "            'url|boost': { 'low': 0.0, 'high': 10.0 },\n",
    "            'title|boost': { 'low': 0.0, 'high': 10.0 },\n",
    "            'title_bigrams|boost': { 'low': 0.0, 'high': 10.0 },\n",
    "            'body|boost': { 'low': 0.0, 'high': 10.0 },\n",
    "            'body_bigrams|boost': { 'low': 0.0, 'high': 10.0 },\n",
    "            'entities|boost': { 'low': 0.0, 'high': 10.0 },\n",
    "        }\n",
    "    }))"
   ]
  },
  {
   "cell_type": "code",
   "execution_count": null,
   "metadata": {},
   "outputs": [],
   "source": [
    "_ = plot_objective(metadata, sample_source='result')"
   ]
  },
  {
   "cell_type": "code",
   "execution_count": null,
   "metadata": {},
   "outputs": [],
   "source": [
    "%%time\n",
    "\n",
    "_ = evaluate_mrr100_dev_templated(es, max_concurrent_searches, index, _templates, template_id, params=final_params)"
   ]
  },
  {
   "cell_type": "code",
   "execution_count": null,
   "metadata": {},
   "outputs": [],
   "source": [
    "final_params"
   ]
  },
  {
   "cell_type": "code",
   "execution_count": null,
   "metadata": {},
   "outputs": [],
   "source": [
    "# with 100/20 iterations\n",
    "# 0.3436\n",
    "\n",
    "{\n",
    "    'url|boost': 5.019618907965658,\n",
    "    'title|boost': 2.1715172653248564,\n",
    "    'title_bigrams|boost': 0.6258343432390224,\n",
    "    'body|boost': 8.97005088495938,\n",
    "    'body_bigrams|boost': 0.785011613141371,\n",
    "    'expansions|boost': 9.958043226768973,\n",
    "    'expansions_bigrams|boost': 2.6104666149721205\n",
    "}"
   ]
  },
  {
   "cell_type": "markdown",
   "metadata": {},
   "source": [
    "### Selective fields\n",
    "\n",
    "Based on the results from above, remove fields with `0` boost values."
   ]
  },
  {
   "cell_type": "code",
   "execution_count": null,
   "metadata": {},
   "outputs": [],
   "source": [
    "_templates = deepcopy(base_templates)\n",
    "_templates[0]['template']['source']['query']['multi_match'] = {\n",
    "    \"type\": query_type,\n",
    "    \"query\": \"{{query_string}}\",\n",
    "    \"fields\": [\n",
    "        \"url^{{url|boost}}\",\n",
    "        \"body^{{body|boost}}\",\n",
    "        \"expansions^{{expansions|boost}}\",\n",
    "        \"expansions.bigrams^{{expansions_bigrams|boost}}\"\n",
    "    ]\n",
    "}"
   ]
  },
  {
   "cell_type": "code",
   "execution_count": null,
   "metadata": {},
   "outputs": [],
   "source": [
    "%%time\n",
    "\n",
    "_ = evaluate_mrr100_dev_templated(es, max_concurrent_searches, index, _templates, template_id, params={\n",
    "    'url|boost': 1.0,\n",
    "    'body|boost': 1.0,\n",
    "    'expansions|boost': 1.0,\n",
    "    'expansions_bigrams|boost': 1.0\n",
    "})"
   ]
  },
  {
   "cell_type": "code",
   "execution_count": null,
   "metadata": {},
   "outputs": [],
   "source": [
    "%%time\n",
    "\n",
    "_, _, final_params, metadata = optimize_query_mrr100_templated(es, max_concurrent_searches, index, _templates, template_id,\n",
    "    config_space=Config.parse({\n",
    "        'method': 'bayesian',\n",
    "        'num_iterations': 100,\n",
    "        'num_initial_points': 20,\n",
    "        'space': {\n",
    "            'url|boost': { 'low': 0.0, 'high': 10.0 },\n",
    "            'body|boost': { 'low': 0.0, 'high': 10.0 },\n",
    "            'expansions|boost': { 'low': 0.0, 'high': 10.0 },\n",
    "            'expansions_bigrams|boost': { 'low': 0.0, 'high': 10.0 },\n",
    "        }\n",
    "    }))"
   ]
  },
  {
   "cell_type": "code",
   "execution_count": null,
   "metadata": {},
   "outputs": [],
   "source": [
    "_ = plot_objective(metadata, sample_source='result')"
   ]
  },
  {
   "cell_type": "code",
   "execution_count": null,
   "metadata": {},
   "outputs": [],
   "source": [
    "%%time\n",
    "\n",
    "_ = evaluate_mrr100_dev_templated(es, max_concurrent_searches, index, _templates, template_id, params=final_params)"
   ]
  },
  {
   "cell_type": "code",
   "execution_count": null,
   "metadata": {},
   "outputs": [],
   "source": [
    "final_params"
   ]
  },
  {
   "cell_type": "code",
   "execution_count": null,
   "metadata": {},
   "outputs": [],
   "source": [
    "# with 100/20 iterations\n",
    "# 0.3405\n",
    "\n",
    "{\n",
    "    'url|boost': 5.9772866071225605,\n",
    "    'body|boost': 10.0,\n",
    "    'expansions|boost': 10.0,\n",
    "    'expansions_bigrams|boost': 2.283163846176233\n",
    "}"
   ]
  },
  {
   "cell_type": "code",
   "execution_count": null,
   "metadata": {},
   "outputs": [],
   "source": []
  }
 ],
 "metadata": {
  "kernelspec": {
   "display_name": "Python 3",
   "language": "python",
   "name": "python3"
  },
  "language_info": {
   "codemirror_mode": {
    "name": "ipython",
    "version": 3
   },
   "file_extension": ".py",
   "mimetype": "text/x-python",
   "name": "python",
   "nbconvert_exporter": "python",
   "pygments_lexer": "ipython3",
   "version": "3.7.7"
  }
 },
 "nbformat": 4,
 "nbformat_minor": 4
}
